{
 "cells": [
  {
   "cell_type": "markdown",
   "id": "702ae86c",
   "metadata": {},
   "source": [
    "# Protocolo Docking"
   ]
  },
  {
   "cell_type": "markdown",
   "id": "c0e8ad9f",
   "metadata": {},
   "source": [
    "## Herramientas \n",
    "- Autodock Tools (ADT): Docking con Autodock4\n",
    "- VMD : Visualizador de moléculas"
   ]
  },
  {
   "cell_type": "markdown",
   "id": "fbc824bc",
   "metadata": {},
   "source": [
    "## Moleculas\n",
    "- Proteína PDB 6lu7: The\""
   ]
  },
  {
   "cell_type": "markdown",
   "id": "bfb0a4b6",
   "metadata": {},
   "source": [
    "## Preliminares\n",
    "Descargar los siguientes archivos en su directorio de trabajo:\n",
    "- Descargar la proteína desde el PDB\n",
    "- Descargar el ligando desde Pubchem\n",
    "- Descargar la herramienta \"autogrid4\"\n",
    "- Descargar la herramienta \"autodock4\""
   ]
  },
  {
   "cell_type": "markdown",
   "id": "47275628",
   "metadata": {},
   "source": [
    "## Preprocear proteína del archivo PDB\n",
    "Remover moleculas de agua y los ligandos dentro del archivo.\n",
    "- Cargar la molecula en VMD: \n",
    "    - \"> File > New Molecule > Browse > Select > Load\"\n",
    "\n",
    "- Crear nueva representación con solo el tipo de residuo \"protein\":\n",
    "    - \"> Graphics > Representations > Create Rep > Selections > Keyword > residuetype > protein > Apply\"\n",
    "    \n",
    "- Guardar las nuevas coordenadas como \"proteina.pdb\"\n",
    "    - \"> File > Save coordinates\"\n",
    "    \n",
    "- Salir"
   ]
  },
  {
   "cell_type": "markdown",
   "id": "bbd86247",
   "metadata": {},
   "source": [
    "## Preprocesar ligando del archivo PSF\n",
    "Cambiar de formato el ligando de archivo PSF a archivo PDB\n",
    "- Abrir el sitio Web de openbabel: http://www.cheminfo.org/Chemistry/Cheminformatics/FormatConverter/index.html\n",
    "\n",
    "- Subir el archivo SDF (Parte derecha)  \n",
    "- En \"Options\" seleccionar formato de entrada \"SDF\", formato de salida \"PDB\", y Generar coordenadas 3D.\n",
    "- Click en botón de conversion \"Convert\"\n",
    "- Descargar archivo PDB (Parte izquierda) y renombrarlo como \"ligando.pdb\"\n",
    "- Salir"
   ]
  },
  {
   "cell_type": "markdown",
   "id": "dcead4af",
   "metadata": {},
   "source": [
    "## Molecular docking using AutoDock Tools"
   ]
  },
  {
   "cell_type": "markdown",
   "id": "55bf16d5",
   "metadata": {},
   "source": [
    "### Definir archivo de trabajo en preferencias\n",
    "Menú File > Preferences > Set > Starup Directory\n",
    "\n",
    "### Preparar proteína\n",
    "Crear archivo pdbqt de la proteína: \n",
    "1. Adicionar hidrógenos:\n",
    "    - Menú File > Read Molecule > Open protein\n",
    "    - Menu Edit > Hydrogens > Add\n",
    "    - Menu Edit > Hydrogens > Merge Non-polar\n",
    "    - Menu Edit > Hydrogens > Merge Non-polar\n",
    "    \n",
    "2. Adicionar cargas:\n",
    "    - Menú Charges > Add Kolman Charges\n",
    "    - Menú Charges > Compute Gasteiger\n",
    "\n",
    "3. Guardar proteína en formato PDBQT\n",
    "    - Menu ADT > Grid > Macromolecule > Output > Choose > Seleccione la proteína y guardela con el mismo nombre y extensión \"pdbqt\"\n",
    "    \n",
    "### Preparar ligando\n",
    "    - Menu ADT > Ligand > Input > \"Files of type PDB\" > \"Selecciona y guarde con el nombre \"ligando.pdbq\"\n",
    "\n",
    "### Preparar la caja de búsqueda (run autogrid4)\n",
    "Crear archivo de parámetros \"caja.gpf\"\n",
    "1. Definir Mapas: \n",
    "    - Menu ADT > Grid > \"Set Map Types\" > \"Choose Ligan\" > \"Select Ligand\"\n",
    "    \n",
    "2. Definir posición y dimensiones de la caja:\n",
    "    - Menu ADT > Grid > Grid Box > \"Definir posición y dimensiones\" \n",
    "    - Menu Grid > File > Close saving current\n",
    "    - Menu ADT > Grid > Output > Save GPF > \"Guarde con el nombre caja.gpf\"\n",
    "\n",
    "3. Calcular las grillas de los mapas (run autogrid):\n",
    "    - Menu ADT > Run > Run Autogrid\n",
    "    - Asignar \"Log Filename:\" \"caja.glg\" y colocar este nombre después del parámetro \"-\" en Cmd.\n",
    "    - Debe aparecer por unos segundos una ventana de procecesamiento \"Autodock Process Manager\"\n",
    "    \n",
    "### Realizar el docking (run autodock4)\n",
    "1. Seleccione el receptor rigido:\n",
    "    - Menu ADT > Docking > Macromolecule > Set Rigid Filename > \"Selecciona la proteína en formato PDBQT\"\n",
    "\n",
    "2. Seleccione el ligando flexible:\n",
    "    - Menu ADT > Docking > Ligand > Choose > \"Seleccione el ligando en formato PDBQT\"\n",
    "    \n",
    "3. Seleccionar los parámetros de búsqueda:\n",
    "    - Menu ADT > Search parameters > Genetic Algorithm\n",
    "    - Seleccionar \"Maximum Number of evals:\" a \"short\"\n",
    "    - Aceptar\n",
    "    - Menu ADT > Output > Lamarckial (GA 4.2)\n",
    "    - Guardar los resultados con el nombre de archivo \"dock.dpf\n",
    "    \n",
    "4. Ejecutar autodock4\n",
    "    - Menu ADT > Run AutoDock\n",
    "    - Seleccionar en \"Parameter Filename:\" el archivo \"dock.dpf\"\n",
    "    - Ejecutar (Launch)\n",
    "    - Debe aparecer por varios segundos (minutos) la ventana de procecesamiento \"Autodock Process Manager\"\n",
    "\n",
    "### Analisis de los resultados\n",
    "Vaya al Menú ADT > Analyze > Conformations > Play\n",
    "\n",
    "\n"
   ]
  }
 ],
 "metadata": {
  "kernelspec": {
   "display_name": "Python 3 (ipykernel)",
   "language": "python",
   "name": "python3"
  },
  "language_info": {
   "codemirror_mode": {
    "name": "ipython",
    "version": 3
   },
   "file_extension": ".py",
   "mimetype": "text/x-python",
   "name": "python",
   "nbconvert_exporter": "python",
   "pygments_lexer": "ipython3",
   "version": "3.10.6"
  },
  "toc": {
   "base_numbering": "0",
   "nav_menu": {},
   "number_sections": true,
   "sideBar": true,
   "skip_h1_title": true,
   "title_cell": "Table of Contents",
   "title_sidebar": "Contents",
   "toc_cell": true,
   "toc_position": {},
   "toc_section_display": true,
   "toc_window_display": true
  },
  "varInspector": {
   "cols": {
    "lenName": 16,
    "lenType": 16,
    "lenVar": 40
   },
   "kernels_config": {
    "python": {
     "delete_cmd_postfix": "",
     "delete_cmd_prefix": "del ",
     "library": "var_list.py",
     "varRefreshCmd": "print(var_dic_list())"
    },
    "r": {
     "delete_cmd_postfix": ") ",
     "delete_cmd_prefix": "rm(",
     "library": "var_list.r",
     "varRefreshCmd": "cat(var_dic_list()) "
    }
   },
   "types_to_exclude": [
    "module",
    "function",
    "builtin_function_or_method",
    "instance",
    "_Feature"
   ],
   "window_display": false
  }
 },
 "nbformat": 4,
 "nbformat_minor": 5
}
