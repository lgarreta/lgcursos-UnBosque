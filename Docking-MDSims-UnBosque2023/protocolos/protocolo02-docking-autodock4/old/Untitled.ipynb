{
 "cells": [
  {
   "cell_type": "markdown",
   "id": "4ed792c3",
   "metadata": {},
   "source": [
    "# Protocolo Docking"
   ]
  },
  {
   "cell_type": "markdown",
   "id": "f378bb0c",
   "metadata": {},
   "source": [
    "## Herramientas \n",
    "- Autodock Tools (ADT): Docking con Autodock4\n",
    "- VMD : Visualizador de moléculas"
   ]
  },
  {
   "cell_type": "markdown",
   "id": "77778a75",
   "metadata": {},
   "source": [
    "## Moleculas\n",
    "- Proteína PDB 6lu7: The three-dimensional crytal structure of SARS-CoV-2 Mpro"
   ]
  },
  {
   "cell_type": "markdown",
   "id": "05621390",
   "metadata": {},
   "source": [
    "## Preprocear proteína del archivo PDB\n",
    "Remover moleculas de agua y los ligandos dentro del archivo.\n",
    "- Cargar la molecula en VMD: \n",
    "    - \"> File > New Molecule > Browse > Select > Load\"\n",
    "\n",
    "- Crear nueva representación con solo el tipo de residuo \"protein\":\n",
    "    - \"> Graphics > Representations > Create Rep > Selections > Keyword > residuetype > protein > Apply\"\n",
    "    \n",
    "- Guardar las nuevas coordenadas como \"proteina.pdb\"\n",
    "    - \"> File > Save coordinates\"\n",
    "    \n",
    "- Salir"
   ]
  },
  {
   "cell_type": "markdown",
   "id": "558a04ac",
   "metadata": {},
   "source": [
    "## Preprocesar ligando del archivo PSF\n",
    "Cambiar de formato el ligando de archivo PSF a archivo PDB\n",
    "- Abrir el sitio Web de openbabel: http://www.cheminfo.org/Chemistry/Cheminformatics/FormatConverter/index.html\n",
    "\n",
    "- Subir el archivo SDF (Parte derecha)  \n",
    "- En \"Options\" seleccionar formato de entrada \"SDF\" y formato de salida \"PDB\"\n",
    "- Click en botón de conversion \"Convert\"\n",
    "- Descargar archivo PDB (Parte izquierda) y renombrarlo como \"ligando.pdb\"\n",
    "- Salir"
   ]
  }
 ],
 "metadata": {
  "kernelspec": {
   "display_name": "Python 3 (ipykernel)",
   "language": "python",
   "name": "python3"
  },
  "language_info": {
   "codemirror_mode": {
    "name": "ipython",
    "version": 3
   },
   "file_extension": ".py",
   "mimetype": "text/x-python",
   "name": "python",
   "nbconvert_exporter": "python",
   "pygments_lexer": "ipython3",
   "version": "3.10.6"
  },
  "toc": {
   "base_numbering": "0",
   "nav_menu": {},
   "number_sections": true,
   "sideBar": true,
   "skip_h1_title": true,
   "title_cell": "Table of Contents",
   "title_sidebar": "Contents",
   "toc_cell": true,
   "toc_position": {},
   "toc_section_display": false,
   "toc_window_display": true
  },
  "varInspector": {
   "cols": {
    "lenName": 16,
    "lenType": 16,
    "lenVar": 40
   },
   "kernels_config": {
    "python": {
     "delete_cmd_postfix": "",
     "delete_cmd_prefix": "del ",
     "library": "var_list.py",
     "varRefreshCmd": "print(var_dic_list())"
    },
    "r": {
     "delete_cmd_postfix": ") ",
     "delete_cmd_prefix": "rm(",
     "library": "var_list.r",
     "varRefreshCmd": "cat(var_dic_list()) "
    }
   },
   "types_to_exclude": [
    "module",
    "function",
    "builtin_function_or_method",
    "instance",
    "_Feature"
   ],
   "window_display": false
  }
 },
 "nbformat": 4,
 "nbformat_minor": 5
}
