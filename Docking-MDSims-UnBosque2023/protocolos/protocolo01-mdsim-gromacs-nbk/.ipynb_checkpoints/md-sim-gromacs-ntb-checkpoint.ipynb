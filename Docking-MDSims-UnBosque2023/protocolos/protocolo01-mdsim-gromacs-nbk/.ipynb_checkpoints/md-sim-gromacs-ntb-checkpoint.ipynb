{
 "cells": [
  {
   "cell_type": "markdown",
   "id": "8c7da15c",
   "metadata": {
    "toc": true
   },
   "source": [
    "<h1>Contenido<span class=\"tocSkip\"></span></h1>\n",
    "<div class=\"toc\"><ul class=\"toc-item\"><li><span><a href=\"#Preliminares\" data-toc-modified-id=\"Preliminares-0\"><span class=\"toc-item-num\">0&nbsp;&nbsp;</span>Preliminares</a></span><ul class=\"toc-item\"><li><span><a href=\"#Introducción-a-las-simulacions-de-Dinámica-Molecular\" data-toc-modified-id=\"Introducción-a-las-simulacions-de-Dinámica-Molecular-0.1\"><span class=\"toc-item-num\">0.1&nbsp;&nbsp;</span>Introducción a las simulacions de Dinámica Molecular</a></span></li><li><span><a href=\"#Librerías-para-manejo-del-notebook\" data-toc-modified-id=\"Librerías-para-manejo-del-notebook-0.2\"><span class=\"toc-item-num\">0.2&nbsp;&nbsp;</span>Librerías para manejo del notebook</a></span></li><li><span><a href=\"#Descarga-del-archivo-PDB\" data-toc-modified-id=\"Descarga-del-archivo-PDB-0.3\"><span class=\"toc-item-num\">0.3&nbsp;&nbsp;</span>Descarga del archivo PDB</a></span></li><li><span><a href=\"#Limpieza-de-la-Proteína\" data-toc-modified-id=\"Limpieza-de-la-Proteína-0.4\"><span class=\"toc-item-num\">0.4&nbsp;&nbsp;</span>Limpieza de la Proteína</a></span></li></ul></li><li><span><a href=\"#Generación-de-la-topología\" data-toc-modified-id=\"Generación-de-la-topología-1\"><span class=\"toc-item-num\">1&nbsp;&nbsp;</span>Generación de la topología</a></span></li><li><span><a href=\"#Generación-una-caja-de-simulación-y-adición-de-solvente\" data-toc-modified-id=\"Generación-una-caja-de-simulación-y-adición-de-solvente-2\"><span class=\"toc-item-num\">2&nbsp;&nbsp;</span>Generación una caja de simulación y adición de solvente</a></span></li><li><span><a href=\"#Adición-de-iones-y-creación-de-un-sistema-de-carga-neutra\" data-toc-modified-id=\"Adición-de-iones-y-creación-de-un-sistema-de-carga-neutra-3\"><span class=\"toc-item-num\">3&nbsp;&nbsp;</span>Adición de iones y creación de un sistema de carga neutra</a></span></li><li><span><a href=\"#Minimización-de-energía\" data-toc-modified-id=\"Minimización-de-energía-4\"><span class=\"toc-item-num\">4&nbsp;&nbsp;</span>Minimización de energía</a></span><ul class=\"toc-item\"><li><span><a href=\"#Archivo-de-configuración-de-la-simulación-(minim.mdp)\" data-toc-modified-id=\"Archivo-de-configuración-de-la-simulación-(minim.mdp)-4.1\"><span class=\"toc-item-num\">4.1&nbsp;&nbsp;</span>Archivo de configuración de la simulación (minim.mdp)</a></span></li></ul></li><li><span><a href=\"#Equilibramiento\" data-toc-modified-id=\"Equilibramiento-5\"><span class=\"toc-item-num\">5&nbsp;&nbsp;</span>Equilibramiento</a></span><ul class=\"toc-item\"><li><span><a href=\"#Simulación-de-Equilibración-NVT\" data-toc-modified-id=\"Simulación-de-Equilibración-NVT-5.1\"><span class=\"toc-item-num\">5.1&nbsp;&nbsp;</span>Simulación de Equilibración NVT</a></span></li><li><span><a href=\"#Simulación-de-Equilibración-NPT\" data-toc-modified-id=\"Simulación-de-Equilibración-NPT-5.2\"><span class=\"toc-item-num\">5.2&nbsp;&nbsp;</span>Simulación de Equilibración NPT</a></span></li></ul></li><li><span><a href=\"#Simulación-de-Producción\" data-toc-modified-id=\"Simulación-de-Producción-6\"><span class=\"toc-item-num\">6&nbsp;&nbsp;</span>Simulación de Producción</a></span></li><li><span><a href=\"#Análisis-de-la-Simulación\" data-toc-modified-id=\"Análisis-de-la-Simulación-7\"><span class=\"toc-item-num\">7&nbsp;&nbsp;</span>Análisis de la Simulación</a></span><ul class=\"toc-item\"><li><span><a href=\"#Preprocesamiento-de-la-trajectoria\" data-toc-modified-id=\"Preprocesamiento-de-la-trajectoria-7.1\"><span class=\"toc-item-num\">7.1&nbsp;&nbsp;</span>Preprocesamiento de la trajectoria</a></span></li><li><span><a href=\"#Desviación-cuadrática-media-raíz-(RMSD)\" data-toc-modified-id=\"Desviación-cuadrática-media-raíz-(RMSD)-7.2\"><span class=\"toc-item-num\">7.2&nbsp;&nbsp;</span>Desviación cuadrática media raíz (RMSD)</a></span></li></ul></li></ul></div>"
   ]
  },
  {
   "cell_type": "markdown",
   "id": "2f44f133",
   "metadata": {},
   "source": [
    "# Simulaciones de dinámica molecular con GROMACS"
   ]
  },
  {
   "cell_type": "markdown",
   "id": "cca49d0b",
   "metadata": {},
   "source": [
    "![](images/gromacs-steps-md.jpg)"
   ]
  },
  {
   "cell_type": "markdown",
   "id": "57c7acdd",
   "metadata": {},
   "source": [
    "## Preliminares"
   ]
  },
  {
   "cell_type": "markdown",
   "id": "0eede0f0",
   "metadata": {},
   "source": [
    "### Introducción a las simulacions de Dinámica Molecular\n",
    "![](images/molecular-dynamics-intro-atoms-movements.png)"
   ]
  },
  {
   "cell_type": "markdown",
   "id": "aa648c9f",
   "metadata": {},
   "source": [
    "### Librerías para manejo del notebook"
   ]
  },
  {
   "cell_type": "code",
   "execution_count": 47,
   "id": "22092c2c",
   "metadata": {},
   "outputs": [],
   "source": [
    "# Librerías de Python \n",
    "import nglview               # For visualizing 3D structures\n",
    "import ipywidgets            # For organizing 3D structures in panels\n",
    "from IPython.display import Image"
   ]
  },
  {
   "cell_type": "markdown",
   "id": "3bb46fbf",
   "metadata": {},
   "source": [
    "### Descarga del archivo PDB"
   ]
  },
  {
   "cell_type": "code",
   "execution_count": 48,
   "id": "93278478",
   "metadata": {},
   "outputs": [
    {
     "name": "stdout",
     "output_type": "stream",
     "text": [
      "--2023-03-22 11:36:57--  https://files.rcsb.org/download/5pep.pdbn\n",
      "Resolving files.rcsb.org (files.rcsb.org)... 128.6.158.70\n",
      "Connecting to files.rcsb.org (files.rcsb.org)|128.6.158.70|:443... connected.\n",
      "HTTP request sent, awaiting response... 404 Not Found\n",
      "2023-03-22 11:36:58 ERROR 404: Not Found.\n",
      "\n"
     ]
    }
   ],
   "source": [
    "## Descarga del archivo PDB\n",
    "!wget https://files.rcsb.org/download/5pep.pdb &> log00a.log\n",
    "!cp 5pep.pdb proteina.pdb"
   ]
  },
  {
   "cell_type": "code",
   "execution_count": 49,
   "id": "58d059f1",
   "metadata": {},
   "outputs": [
    {
     "name": "stdout",
     "output_type": "stream",
     "text": [
      "total 84252\r\n",
      "-rw-rw-r-- 1 lg lg   263250 mar 22 11:36 proteina.pdb\r\n",
      "-rw-rw-r-- 1 lg lg   776624 mar 22 11:35 md-sim-gromacs-ntb.html\r\n"
     ]
    },
    {
     "data": {
      "application/vnd.jupyter.widget-view+json": {
       "model_id": "aa93b0d4b35a40338cc33964f5224cc2",
       "version_major": 2,
       "version_minor": 0
      },
      "text/plain": [
       "NGLWidget()"
      ]
     },
     "metadata": {},
     "output_type": "display_data"
    }
   ],
   "source": [
    "## Visualización resultados\n",
    "!ls -tl|head -3\n",
    "view = nglview.show_structure_file (\"proteina.pdb\")\n",
    "view.add_representation (repr_type=\"ball+stick\", selection=\"HOH\")\n",
    "view"
   ]
  },
  {
   "cell_type": "markdown",
   "id": "ea19f10c",
   "metadata": {},
   "source": [
    "### Limpieza de la Proteína"
   ]
  },
  {
   "cell_type": "code",
   "execution_count": 50,
   "id": "bf0f35fb",
   "metadata": {},
   "outputs": [],
   "source": [
    "## Limpieza de la Proteína\n",
    "!grep -v 'HOH' proteina.pdb > proteina_limpia.pdb"
   ]
  },
  {
   "cell_type": "code",
   "execution_count": 51,
   "id": "b495ce32",
   "metadata": {},
   "outputs": [
    {
     "name": "stdout",
     "output_type": "stream",
     "text": [
      "total 84252\r\n",
      "-rw-rw-r-- 1 lg lg   232794 mar 22 11:36 proteina_limpia.pdb\r\n",
      "-rw-rw-r-- 1 lg lg   263250 mar 22 11:36 proteina.pdb\r\n"
     ]
    },
    {
     "data": {
      "application/vnd.jupyter.widget-view+json": {
       "model_id": "80e874368cc24ee485e8576faab0387d",
       "version_major": 2,
       "version_minor": 0
      },
      "text/plain": [
       "NGLWidget()"
      ]
     },
     "metadata": {},
     "output_type": "display_data"
    }
   ],
   "source": [
    "## Visualización resultados\n",
    "!ls -tl|head -3\n",
    "view = nglview.show_structure_file (\"proteina_limpia.pdb\")\n",
    "view.add_representation (repr_type=\"ball+stick\", selection=\"HOH\")\n",
    "view"
   ]
  },
  {
   "cell_type": "markdown",
   "id": "17a38ba2",
   "metadata": {},
   "source": [
    "## Generación de la topología"
   ]
  },
  {
   "cell_type": "code",
   "execution_count": 52,
   "id": "f3194e15",
   "metadata": {
    "scrolled": true
   },
   "outputs": [],
   "source": [
    "## Creación de una topología Gromacs (PDB2GMX)\n",
    "!{ echo 1;echo 1; }|gmx pdb2gmx -f proteina_limpia.pdb -o proteina_gromacs &> log01.log"
   ]
  },
  {
   "cell_type": "code",
   "execution_count": 53,
   "id": "5d4b0818",
   "metadata": {},
   "outputs": [
    {
     "name": "stdout",
     "output_type": "stream",
     "text": [
      "total 85636\r\n",
      "-rw-rw-r-- 1 lg lg     8142 mar 22 11:37 log01.log\r\n",
      "-rw-rw-r-- 1 lg lg   210794 mar 22 11:37 proteina_gromacs.gro\r\n",
      "-rw-rw-r-- 1 lg lg  1290677 mar 22 11:37 topol.top\r\n",
      "-rw-rw-r-- 1 lg lg    75479 mar 22 11:37 posre.itp\r\n"
     ]
    },
    {
     "data": {
      "application/vnd.jupyter.widget-view+json": {
       "model_id": "aa84140fd7c941858b457be618b7fde4",
       "version_major": 2,
       "version_minor": 0
      },
      "text/plain": [
       "NGLWidget()"
      ]
     },
     "metadata": {},
     "output_type": "display_data"
    }
   ],
   "source": [
    "## Visualización resultados\n",
    "!ls -tl|head -5\n",
    "view = nglview.show_structure_file (\"proteina_gromacs.gro\")\n",
    "view.add_representation (repr_type=\"ball+stick\", selection=\"HOH\")\n",
    "view"
   ]
  },
  {
   "cell_type": "markdown",
   "id": "eff4fff3",
   "metadata": {},
   "source": [
    "## Generación una caja de simulación y adición de solvente"
   ]
  },
  {
   "cell_type": "code",
   "execution_count": 54,
   "id": "534e907a",
   "metadata": {
    "scrolled": true
   },
   "outputs": [],
   "source": [
    "## Generación una caja de simulación\n",
    "!gmx editconf -f conf.gro -c -d 1 -bt cubic -o proteina_caja.gro &> log02a.log"
   ]
  },
  {
   "cell_type": "code",
   "execution_count": 55,
   "id": "1b1d16e9",
   "metadata": {},
   "outputs": [
    {
     "name": "stdout",
     "output_type": "stream",
     "text": [
      "total 85640\r\n",
      "-rw-rw-r-- 1 lg lg     2959 mar 22 11:37 log02a.log\r\n",
      "-rw-rw-r-- 1 lg lg     8142 mar 22 11:37 log01.log\r\n",
      "-rw-rw-r-- 1 lg lg   210794 mar 22 11:37 proteina_gromacs.gro\r\n",
      "-rw-rw-r-- 1 lg lg  1290677 mar 22 11:37 topol.top\r\n"
     ]
    }
   ],
   "source": [
    "## Visualización resultados\n",
    "!ls -tl|head -5"
   ]
  },
  {
   "cell_type": "code",
   "execution_count": 56,
   "id": "7288ec24",
   "metadata": {
    "scrolled": true
   },
   "outputs": [],
   "source": [
    "## Adicción de solvente al sistema\n",
    "!gmx solvate -cp proteina_caja.gro -cs spc216.gro -o proteina_solvente.gro -p topol.top &> log02b.log"
   ]
  },
  {
   "cell_type": "code",
   "execution_count": 57,
   "id": "f568bce2",
   "metadata": {},
   "outputs": [
    {
     "name": "stdout",
     "output_type": "stream",
     "text": [
      "total 89648\r\n",
      "-rw-rw-r-- 1 lg lg     4116 mar 22 11:37 log02b.log\r\n",
      "-rw-rw-r-- 1 lg lg  1290708 mar 22 11:37 topol.top\r\n",
      "-rw-rw-r-- 1 lg lg  2800169 mar 22 11:37 proteina_solvente.gro\r\n",
      "-rw-rw-r-- 1 lg lg     2959 mar 22 11:37 log02a.log\r\n"
     ]
    },
    {
     "data": {
      "application/vnd.jupyter.widget-view+json": {
       "model_id": "19631b7b518c49a984c61b3f5db62f3c",
       "version_major": 2,
       "version_minor": 0
      },
      "text/plain": [
       "NGLWidget()"
      ]
     },
     "metadata": {},
     "output_type": "display_data"
    }
   ],
   "source": [
    "## Visualización resultados\n",
    "!ls -tl|head -5\n",
    "view = nglview.show_structure_file (\"proteina_solvente.gro\")\n",
    "view.add_representation (repr_type=\"cartoon\", color=\"green\")\n",
    "view.add_representation (repr_type=\"point\", selection=\"SOL\")\n",
    "view"
   ]
  },
  {
   "cell_type": "markdown",
   "id": "31005c59",
   "metadata": {},
   "source": [
    "## Adición de iones y creación de un sistema de carga neutra\n",
    "Agregar iones a su sistema solvatado puede servir para dos propósitos: puede ayudar a neutralizar cualquier carga en su sistema; y le permite simular sistemas con concentraciones de sal similares a sus equivalentes del mundo real. Es posible que haya notado anteriormente que nuestro sistema está cargado. Aquí lo neutralizaremos agregando iones. \n",
    "\n",
    "La adición de iones se realiza en dos partes: primero, debe usar la herramienta grompp para generar un archivo .tpr que se usará al agregar iones, y luego debe reemplazar algunos de las moléculas solventes agregados recientemente con los contraiones necesarios usando genion. \n",
    "\n",
    "La herramienta de preprocesador GROMACS grompp lee archivos de coordenadas y topología para generar un archivo de entrada de nivel atómico (con una extensión .tpr). Este archivo .tpr contiene todos los parámetros necesarios para todos los átomos del sistema. Para generar un archivo .tpr de entrada de ejecución, grompp necesita un archivo de estructura (.gro), un archivo de topología (.top) y un archivo que define las instrucciones para la ejecución de la simulación (esto se guarda en un archivo .mdp). Este archivo .mdp se puede mantener vacío cuando se ioniza el sistema, ya que no se ejecutará ninguna simulación real."
   ]
  },
  {
   "cell_type": "code",
   "execution_count": 58,
   "id": "dd85cfbf",
   "metadata": {
    "scrolled": true
   },
   "outputs": [],
   "source": [
    "# Crea un archivo .mdp vacio \n",
    "!touch mdrun.mdp\n",
    "!gmx grompp -f parametros_iones.mdp -c proteina_solvente.gro -p topol.top -o parametros_iones.tpr &> log03a.log"
   ]
  },
  {
   "cell_type": "markdown",
   "id": "39a637b2",
   "metadata": {},
   "source": [
    "Ahora que se ha generado el .tpr, se puede usar genion para neutralizar la carga del sistema. La carga del sistema disminuye reemplazando varias partes del sistema con aniones y cationes. Esto se hace ejecutando lo siguiente:"
   ]
  },
  {
   "cell_type": "code",
   "execution_count": 59,
   "id": "91a64046",
   "metadata": {},
   "outputs": [],
   "source": [
    "!echo 13 |gmx genion -s parametros_iones.tpr -p topol.top -neutral -o proteina_iones.gro &> log03b.log"
   ]
  },
  {
   "cell_type": "code",
   "execution_count": 60,
   "id": "22b6d555",
   "metadata": {},
   "outputs": [
    {
     "name": "stdout",
     "output_type": "stream",
     "text": [
      "total 93656\r\n",
      "-rw-rw-r-- 1 lg lg     5787 mar 22 11:37 log03b.log\r\n",
      "-rw-rw-r-- 1 lg lg  2796758 mar 22 11:37 proteina_iones.gro\r\n",
      "-rw-rw-r-- 1 lg lg  1290724 mar 22 11:37 topol.top\r\n",
      "-rw-rw-r-- 1 lg lg     2999 mar 22 11:37 log03a.log\r\n",
      "-rw-rw-r-- 1 lg lg        0 mar 22 11:37 mdrun.mdp\r\n",
      "-rw-rw-r-- 1 lg lg     4116 mar 22 11:37 log02b.log\r\n"
     ]
    },
    {
     "data": {
      "application/vnd.jupyter.widget-view+json": {
       "model_id": "6b2c4dfffd2a4d8ba8acf3c21bd06269",
       "version_major": 2,
       "version_minor": 0
      },
      "text/plain": [
       "NGLWidget()"
      ]
     },
     "metadata": {},
     "output_type": "display_data"
    }
   ],
   "source": [
    "## Visualización resultados\n",
    "!ls -tl|head -7\n",
    "view = nglview.show_structure_file (\"proteina_iones.gro\")\n",
    "view.add_representation (repr_type=\"cartoon\", color=\"green\")\n",
    "#view.add_representation (repr_type=\"point\", selection=\"SOL\", color=\"gray\")\n",
    "view.add_representation (repr_type=\"point\", selection=\"NA\", color=\"yellow\")\n",
    "view"
   ]
  },
  {
   "cell_type": "markdown",
   "id": "d9bcf5fd",
   "metadata": {},
   "source": [
    "## Minimización de energía"
   ]
  },
  {
   "cell_type": "markdown",
   "id": "3b9954b9",
   "metadata": {},
   "source": [
    "### Archivo de configuración de la simulación (minim.mdp)"
   ]
  },
  {
   "cell_type": "code",
   "execution_count": 61,
   "id": "19bc2c1c",
   "metadata": {},
   "outputs": [
    {
     "name": "stdout",
     "output_type": "stream",
     "text": [
      "; MINIMIZATION RUN (minim.mdp)\r\n",
      ";(used as input into grompp to generate em.tpr)\r\n",
      ";\r\n",
      "; Parameters describing what to do, when to stop, and what to save\r\n",
      "integrator  = steep         ; A steepest descent algorithm for energy minimization\r\n",
      "emtol       = 1000.0        ; Stop minimization when the maximum force < 1000.0 kJ/mol/nm\r\n",
      "emstep      = 0.01          ; Minimization step size\r\n",
      "nsteps      = 500         ; 5000 Maximum number of (minimization) steps to perform\r\n",
      "\r\n",
      ";ELECTROSTATIC AND VDWAALS\r\n",
      "; Parameters describing how to find the neighbors of each atom and how to calculate the interactions\r\n",
      "nstlist         = 1         ; Frequency to update the neighbor list and long range forces\r\n",
      "cutoff-scheme   = Verlet    ; Buffered neighbor searching\r\n",
      "ns_type         = grid      ; Method to determine neighbor list (simple, grid)\r\n",
      "coulombtype     = PME       ; Treatment of long range electrostatic interactions\r\n",
      "rcoulomb        = 1.0       ; Short-range electrostatic cut-off (nm)\r\n",
      "rvdw            = 1.0       ; Short-range Van der Waals cut-off (nm)\r\n",
      "pbc             = xyz       ; Periodic Boundary Conditions in all 3 dimensions\r\n",
      "  \r\n"
     ]
    }
   ],
   "source": [
    "!cat simulacion_minim.mdp"
   ]
  },
  {
   "cell_type": "code",
   "execution_count": 62,
   "id": "da8d1354",
   "metadata": {},
   "outputs": [],
   "source": [
    "## Preparación archivo de simulación&\n",
    "!gmx grompp -f simulacion_minim.mdp -c proteina_iones.gro -p topol.top -o simulacion_minim.tpr &> log04a.log"
   ]
  },
  {
   "cell_type": "code",
   "execution_count": 63,
   "id": "751a7d11",
   "metadata": {},
   "outputs": [],
   "source": [
    "## Ejecución de la simulación\n",
    "!gmx mdrun -v -deffnm simulacion_minim &> log04b.log"
   ]
  },
  {
   "cell_type": "code",
   "execution_count": 64,
   "id": "2aba4426",
   "metadata": {
    "scrolled": true
   },
   "outputs": [
    {
     "data": {
      "image/png": "[encoded data removed]",
      "text/plain": [
       "<IPython.core.display.Image object>"
      ]
     },
     "execution_count": 64,
     "metadata": {
      "image/png": {
       "height": 400,
       "width": 400
      }
     },
     "output_type": "execute_result"
    }
   ],
   "source": [
    "## Analysis de la simulación: Energía potencial\n",
    "!echo 10 | gmx energy -f simulacion_minim.edr -o energia_potencial.xvg &> log04c.log\n",
    "!grace -nxy energia_potencial.xvg -hdevice PNG -hardcopy -printfile energia_potencial.png\n",
    "Image(filename='energia_potencial.png', width = 400, height = 400)"
   ]
  },
  {
   "cell_type": "markdown",
   "id": "5e26b140",
   "metadata": {},
   "source": [
    "## Equilibramiento"
   ]
  },
  {
   "cell_type": "markdown",
   "id": "0cf9d6fe",
   "metadata": {},
   "source": [
    "### Simulación de Equilibración NVT"
   ]
  },
  {
   "cell_type": "code",
   "execution_count": 65,
   "id": "7fe07062",
   "metadata": {},
   "outputs": [],
   "source": [
    "!gmx grompp -f simulacion_nvt.mdp -c simulacion_minim.gro -r simulacion_minim.gro -p topol.top -o simulacion_nvt.tpr &> log05a.log\n",
    "!gmx mdrun -v -deffnm simulacion_nvt &> log05b.log"
   ]
  },
  {
   "cell_type": "code",
   "execution_count": 66,
   "id": "f21a38ff",
   "metadata": {
    "scrolled": true
   },
   "outputs": [
    {
     "name": "stdout",
     "output_type": "stream",
     "text": [
      "total 124580\r\n",
      "-rw-rw-r-- 1 lg lg     3689 mar 22 11:38 log05b.log\r\n",
      "-rw-rw-r-- 1 lg lg    28942 mar 22 11:38 simulacion_nvt.log\r\n",
      "-rw-rw-r-- 1 lg lg     3676 mar 22 11:38 simulacion_nvt.edr\r\n",
      "-rw-rw-r-- 1 lg lg  4288334 mar 22 11:38 simulacion_nvt.gro\r\n",
      "ls: write error: Broken pipe\r\n"
     ]
    },
    {
     "data": {
      "image/png": "[encoded data removed]",
      "text/plain": [
       "<IPython.core.display.Image object>"
      ]
     },
     "execution_count": 66,
     "metadata": {
      "image/png": {
       "height": 400,
       "width": 400
      }
     },
     "output_type": "execute_result"
    }
   ],
   "source": [
    "## Resultados simulación NVT\n",
    "!ls -lt|head -5\n",
    "!echo 16 | gmx energy -f simulacion_nvt.edr -o temperatura.xvg &> log05c.log\n",
    "!grace -nxy temperatura.xvg -hdevice PNG -hardcopy -printfile temperatura.png\n",
    "Image(filename='temperatura.png', width = 400, height = 400)"
   ]
  },
  {
   "cell_type": "markdown",
   "id": "54cd3cdc",
   "metadata": {},
   "source": [
    "### Simulación de Equilibración NPT"
   ]
  },
  {
   "cell_type": "code",
   "execution_count": 67,
   "id": "f981eb3f",
   "metadata": {
    "scrolled": true
   },
   "outputs": [
    {
     "name": "stdout",
     "output_type": "stream",
     "text": [
      "              :-) GROMACS - gmx mdrun, 2021.4-Ubuntu-2021.4-2 (-:\n",
      "\n",
      "                            GROMACS is written by:\n",
      "     Andrey Alekseenko              Emile Apol              Rossen Apostolov     \n",
      "         Paul Bauer           Herman J.C. Berendsen           Par Bjelkmar       \n",
      "       Christian Blau           Viacheslav Bolnykh             Kevin Boyd        \n",
      "     Aldert van Buuren           Rudi van Drunen             Anton Feenstra      \n",
      "    Gilles Gouaillardet             Alan Gray               Gerrit Groenhof      \n",
      "       Anca Hamuraru            Vincent Hindriksen          M. Eric Irrgang      \n",
      "      Aleksei Iupinov           Christoph Junghans             Joe Jordan        \n",
      "    Dimitrios Karkoulis            Peter Kasson                Jiri Kraus        \n",
      "      Carsten Kutzner              Per Larsson              Justin A. Lemkul     \n",
      "       Viveca Lindahl            Magnus Lundborg             Erik Marklund       \n",
      "        Pascal Merz             Pieter Meulenhoff            Teemu Murtola       \n",
      "        Szilard Pall               Sander Pronk              Roland Schulz       \n",
      "       Michael Shirts            Alexey Shvetsov             Alfons Sijbers      \n",
      "       Peter Tieleman              Jon Vincent              Teemu Virolainen     \n",
      "     Christian Wennberg            Maarten Wolf              Artem Zhmurov       \n",
      "                           and the project leaders:\n",
      "        Mark Abraham, Berk Hess, Erik Lindahl, and David van der Spoel\n",
      "\n",
      "Copyright (c) 1991-2000, University of Groningen, The Netherlands.\n",
      "Copyright (c) 2001-2019, The GROMACS development team at\n",
      "Uppsala University, Stockholm University and\n",
      "the Royal Institute of Technology, Sweden.\n",
      "check out http://www.gromacs.org for more information.\n",
      "\n",
      "GROMACS is free software; you can redistribute it and/or modify it\n",
      "under the terms of the GNU Lesser General Public License\n",
      "as published by the Free Software Foundation; either version 2.1\n",
      "of the License, or (at your option) any later version.\n",
      "\n",
      "GROMACS:      gmx mdrun, version 2021.4-Ubuntu-2021.4-2\n",
      "Executable:   /usr/bin/gmx\n",
      "Data prefix:  /usr\n",
      "Working dir:  /home/lg/repos/lgcursos/Docking-MDSims-UnBosque2023/practicas/gromacs-mdsim-notebook\n",
      "Command line:\n",
      "  gmx mdrun -v -deffnm simulacion_npt\n",
      "\n",
      "\n",
      "Back Off! I just backed up simulacion_npt.log to ./#simulacion_npt.log.1#\n",
      "Compiled SIMD: SSE4.1, but for this host/run AVX2_256 might be better (see\n",
      "log).\n",
      "Reading file simulacion_npt.tpr, VERSION 2021.4-Ubuntu-2021.4-2 (single precision)\n",
      "Changing nstlist from 10 to 50, rlist from 1 to 1.105\n",
      "\n",
      "Using 1 MPI thread\n",
      "Using 4 OpenMP threads \n",
      "\n",
      "\n",
      "Back Off! I just backed up simulacion_npt.trr to ./#simulacion_npt.trr.1#\n",
      "\n",
      "Back Off! I just backed up simulacion_npt.edr to ./#simulacion_npt.edr.1#\n",
      "starting mdrun 'PEPSIN in water'\n",
      "1000 steps,      2.0 ps.\n",
      "step 900, remaining wall clock time:     4 s          \n",
      "Writing final coordinates.\n",
      "\n",
      "Back Off! I just backed up simulacion_npt.gro to ./#simulacion_npt.gro.1#\n",
      "step 1000, remaining wall clock time:     0 s          \n",
      "               Core t (s)   Wall t (s)        (%)\n",
      "       Time:      186.416       46.604      400.0\n",
      "                 (ns/day)    (hour/ns)\n",
      "Performance:        3.712        6.466\n",
      "\n",
      "GROMACS reminds you: \"It Was My Pleasure\" (Pulp Fiction)\n",
      "\n"
     ]
    }
   ],
   "source": [
    "!gmx grompp -f simulacion_npt.mdp -c simulacion_nvt.gro -r simulacion_nvt.gro -t simulacion_nvt.cpt -p topol.top -o simulacion_npt.tpr &> log05d.log\n",
    "!gmx mdrun -v -deffnm simulacion_npt &> log05dd.log"
   ]
  },
  {
   "cell_type": "code",
   "execution_count": 68,
   "id": "0ed70b31",
   "metadata": {
    "scrolled": true
   },
   "outputs": [
    {
     "name": "stdout",
     "output_type": "stream",
     "text": [
      "total 149200\r\n",
      "-rw-rw-r-- 1 lg lg    28834 mar 22 11:39 simulacion_npt.log\r\n",
      "-rw-rw-r-- 1 lg lg     4348 mar 22 11:39 simulacion_npt.edr\r\n",
      "-rw-rw-r-- 1 lg lg  4288334 mar 22 11:39 simulacion_npt.gro\r\n",
      "-rw-rw-r-- 1 lg lg 16408656 mar 22 11:39 simulacion_npt.trr\r\n",
      "ls: write error: Broken pipe\r\n"
     ]
    },
    {
     "data": {
      "image/png": "[encoded data removed]",
      "text/plain": [
       "<IPython.core.display.Image object>"
      ]
     },
     "execution_count": 68,
     "metadata": {
      "image/png": {
       "height": 400,
       "width": 400
      }
     },
     "output_type": "execute_result"
    }
   ],
   "source": [
    "## Resultados simulación NPT\n",
    "!ls -lt|head -5\n",
    "!echo 18 | gmx energy -f simulacion_npt.edr -o presion.xvg &> log05e.log\n",
    "!grace -nxy presion.xvg -hdevice PNG -hardcopy -printfile presion.png\n",
    "Image(filename='presion.png', width = 400, height = 400)"
   ]
  },
  {
   "cell_type": "markdown",
   "id": "726bd8aa",
   "metadata": {},
   "source": [
    "## Simulación de Producción"
   ]
  },
  {
   "cell_type": "code",
   "execution_count": 69,
   "id": "857e157c",
   "metadata": {},
   "outputs": [],
   "source": [
    "!gmx grompp -f simulacion_prod.mdp -c simulacion_npt.gro -t simulacion_npt.cpt -p topol.top -o simulacion_prod.tpr &> log06a.log\n",
    "!gmx mdrun -v -deffnm simulacion_prod &> log06b.log"
   ]
  },
  {
   "cell_type": "markdown",
   "id": "2aab7bd4",
   "metadata": {},
   "source": [
    "## Análisis de la Simulación"
   ]
  },
  {
   "cell_type": "markdown",
   "id": "a11b6c6e",
   "metadata": {},
   "source": [
    "### Preprocesamiento de la trajectoria"
   ]
  },
  {
   "cell_type": "code",
   "execution_count": 70,
   "id": "b4c2718f",
   "metadata": {
    "scrolled": true
   },
   "outputs": [],
   "source": [
    "!{ echo 1; echo 0; } | gmx trjconv -s simulacion_prod.tpr -f simulacion_prod.xtc -o simulacion_prod_noPBC.xtc -pbc mol -center &> log07a.log"
   ]
  },
  {
   "cell_type": "markdown",
   "id": "18db4fa4",
   "metadata": {},
   "source": [
    "### Desviación cuadrática media raíz (RMSD)"
   ]
  },
  {
   "cell_type": "code",
   "execution_count": 71,
   "id": "7b8d27f0",
   "metadata": {
    "scrolled": true
   },
   "outputs": [],
   "source": [
    "!{ echo 4;echo 4; }|gmx rms -s simulacion_prod.tpr -f simulacion_prod_noPBC.xtc -o rmsd.xvg -tu ns &> log07b.log"
   ]
  },
  {
   "cell_type": "code",
   "execution_count": 72,
   "id": "daef06fa",
   "metadata": {},
   "outputs": [
    {
     "name": "stdout",
     "output_type": "stream",
     "text": [
      "total 162436\r\n",
      "-rw-rw-r-- 1 lg lg     5170 mar 22 11:40 log07b.log\r\n",
      "-rw-rw-r-- 1 lg lg      897 mar 22 11:40 rmsd.xvg\r\n",
      "-rw-rw-r-- 1 lg lg     5865 mar 22 11:40 log07a.log\r\n",
      "-rw-rw-r-- 1 lg lg  2494240 mar 22 11:40 simulacion_prod_noPBC.xtc\r\n"
     ]
    },
    {
     "data": {
      "image/png": "[encoded data removed]",
      "text/plain": [
       "<IPython.core.display.Image object>"
      ]
     },
     "execution_count": 72,
     "metadata": {
      "image/png": {
       "height": 400,
       "width": 400
      }
     },
     "output_type": "execute_result"
    }
   ],
   "source": [
    "## Resultados simulación Producción\n",
    "!ls -lt|head -5\n",
    "!grace -nxy rmsd.xvg -hdevice PNG -hardcopy -printfile rmsd.png\n",
    "Image(filename='rmsd.png', width = 400, height = 400)"
   ]
  }
 ],
 "metadata": {
  "kernelspec": {
   "display_name": "Python 3 (ipykernel)",
   "language": "python",
   "name": "python3"
  },
  "language_info": {
   "codemirror_mode": {
    "name": "ipython",
    "version": 3
   },
   "file_extension": ".py",
   "mimetype": "text/x-python",
   "name": "python",
   "nbconvert_exporter": "python",
   "pygments_lexer": "ipython3",
   "version": "3.10.6"
  },
  "toc": {
   "base_numbering": "0",
   "nav_menu": {},
   "number_sections": true,
   "sideBar": true,
   "skip_h1_title": true,
   "title_cell": "Contenido",
   "title_sidebar": "Contenido",
   "toc_cell": true,
   "toc_position": {},
   "toc_section_display": false,
   "toc_window_display": false
  },
  "varInspector": {
   "cols": {
    "lenName": 16,
    "lenType": 16,
    "lenVar": 40
   },
   "kernels_config": {
    "python": {
     "delete_cmd_postfix": "",
     "delete_cmd_prefix": "del ",
     "library": "var_list.py",
     "varRefreshCmd": "print(var_dic_list())"
    },
    "r": {
     "delete_cmd_postfix": ") ",
     "delete_cmd_prefix": "rm(",
     "library": "var_list.r",
     "varRefreshCmd": "cat(var_dic_list()) "
    }
   },
   "types_to_exclude": [
    "module",
    "function",
    "builtin_function_or_method",
    "instance",
    "_Feature"
   ],
   "window_display": false
  }
 },
 "nbformat": 4,
 "nbformat_minor": 5
}
