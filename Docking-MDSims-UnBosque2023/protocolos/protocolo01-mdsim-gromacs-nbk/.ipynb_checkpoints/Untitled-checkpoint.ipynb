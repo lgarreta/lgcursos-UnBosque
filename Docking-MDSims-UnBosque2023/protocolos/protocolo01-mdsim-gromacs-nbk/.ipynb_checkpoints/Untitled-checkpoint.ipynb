{
 "cells": [
  {
   "cell_type": "code",
   "execution_count": 2,
   "id": "b5392c5b",
   "metadata": {},
   "outputs": [
    {
     "data": {
      "application/vnd.jupyter.widget-view+json": {
       "model_id": "4b9dedc821f84c8fb50196b32886cc65",
       "version_major": 2,
       "version_minor": 0
      },
      "text/plain": []
     },
     "metadata": {},
     "output_type": "display_data"
    }
   ],
   "source": [
    "# Librerías de Python\n",
    "import nglview               # For visualizing 3D structures\n",
    "import ipywidgets            # For organizing 3D structures in panels"
   ]
  },
  {
   "cell_type": "code",
   "execution_count": 5,
   "id": "9bf94f9f",
   "metadata": {},
   "outputs": [
    {
     "name": "stdout",
     "output_type": "stream",
     "text": [
      "--2023-03-21 09:59:32--  https://files.rcsb.org/download/5pep.pdb\n",
      "Resolving files.rcsb.org (files.rcsb.org)... 128.6.158.70\n",
      "Connecting to files.rcsb.org (files.rcsb.org)|128.6.158.70|:443... connected.\n",
      "HTTP request sent, awaiting response... 200 OK\n",
      "Length: unspecified [application/octet-stream]\n",
      "Saving to: ‘5pep.pdb.3’\n",
      "\n",
      "5pep.pdb.3              [  <=>               ] 257,08K   687KB/s    in 0,4s    \n",
      "\n",
      "2023-03-21 09:59:33 (687 KB/s) - ‘5pep.pdb.3’ saved [263250]\n",
      "\n"
     ]
    }
   ],
   "source": [
    "# Descarga archivo PDB\n",
    "!wget https://files.rcsb.org/download/5pep.pdb"
   ]
  },
  {
   "cell_type": "code",
   "execution_count": 8,
   "id": "5925a2b1",
   "metadata": {},
   "outputs": [
    {
     "name": "stdout",
     "output_type": "stream",
     "text": [
      "total 1044\r\n",
      "-rw-rw-r-- 1 lg lg   2298 mar 21 10:03 Untitled.ipynb\r\n",
      "-rw-rw-r-- 1 lg lg 263250 mar 21 09:59 5pep.pdb.3\r\n"
     ]
    }
   ],
   "source": [
    "!ls -tl|head -3"
   ]
  }
 ],
 "metadata": {
  "kernelspec": {
   "display_name": "Python 3 (ipykernel)",
   "language": "python",
   "name": "python3"
  },
  "language_info": {
   "codemirror_mode": {
    "name": "ipython",
    "version": 3
   },
   "file_extension": ".py",
   "mimetype": "text/x-python",
   "name": "python",
   "nbconvert_exporter": "python",
   "pygments_lexer": "ipython3",
   "version": "3.10.6"
  }
 },
 "nbformat": 4,
 "nbformat_minor": 5
}
